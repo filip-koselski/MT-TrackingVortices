{
 "cells": [
  {
   "cell_type": "code",
   "execution_count": null,
   "id": "0b3100d3",
   "metadata": {},
   "outputs": [],
   "source": [
    "import numpy as np\n",
    "import pandas as pd\n",
    "import seaborn as sns\n",
    "import matplotlib.pyplot as plt\n",
    "import plotly.express as px\n",
    "import skimage\n",
    "# plt.rcParams['xtick.labelcolor'] = 'white'\n",
    "# plt.rcParams['ytick.labelcolor'] = 'white'"
   ]
  },
  {
   "cell_type": "code",
   "execution_count": null,
   "id": "72a9e04b",
   "metadata": {},
   "outputs": [],
   "source": [
    "def generate_df(filename):\n",
    "    data = np.genfromtxt(filename, delimiter='\\t')\n",
    "    x_axis = np.round(data[0][1:-1], 2)\n",
    "    y_axis = np.round(np.flip(data[:,0][1:]), 2)\n",
    "    data = np.delete(data, 818, axis=1)\n",
    "    data = np.delete(data, 0, axis=0)\n",
    "    data = np.delete(data, 0 ,axis=1)\n",
    "    data = np.rot90(data, 1)\n",
    "    print(\"Data shape: \", data.shape)\n",
    "    return pd.DataFrame(data=data, index=y_axis, columns=x_axis)"
   ]
  },
  {
   "cell_type": "code",
   "execution_count": null,
   "id": "c6b6bb43",
   "metadata": {},
   "outputs": [],
   "source": [
    "''' PLOTLY '''\n",
    "def plotly_heatmap(df, zmin, zmax, text_auto=False):\n",
    "    fig = px.imshow(df, text_auto=text_auto, color_continuous_scale='RdBu_r', \n",
    "                    zmin=zmin, zmax=zmax, width=1200, height=1200, origin='lower', \n",
    "                    labels=dict(color=\"Value[au]\"))\n",
    "    fig.update_layout(xaxis={'title': 'x-position[au]'}, \n",
    "                      yaxis={'title': 'y-position[au]'})\n",
    "    fig.update_layout(font=dict(size=28))\n",
    "    fig.update_layout(yaxis = dict(titlefont = dict(size=35)))\n",
    "    fig.update_layout(xaxis = dict(titlefont = dict(size=35)))\n",
    "    fig.update_layout(yaxis = dict(tickfont = dict(size=28)))\n",
    "    fig.update_layout(xaxis = dict(tickfont = dict(size=28)))\n",
    "    # Add circles\n",
    "#     fig.add_shape(type=\"circle\",\n",
    "#         xref=\"x\", yref=\"y\",\n",
    "#         x0=3.906, y0=16.99, x1=5.957, y1=19.14,\n",
    "#         line_color=\"LightSeaGreen\",\n",
    "#     )\n",
    "    fig.show()"
   ]
  },
  {
   "cell_type": "markdown",
   "id": "49b63a0d",
   "metadata": {},
   "source": [
    "# MOMENT OF TIME"
   ]
  },
  {
   "cell_type": "code",
   "execution_count": null,
   "id": "ca198cea",
   "metadata": {},
   "outputs": [],
   "source": [
    "frame = np.round(43.7, 1)"
   ]
  },
  {
   "cell_type": "markdown",
   "id": "c7a7740a",
   "metadata": {},
   "source": [
    "# x phase velocity plot"
   ]
  },
  {
   "cell_type": "code",
   "execution_count": null,
   "id": "9f196768",
   "metadata": {},
   "outputs": [],
   "source": [
    "filename = f'simulation_data_samples/x_phase_velocity_snapshot_time={frame}0.dat'\n",
    "df_x = generate_df(filename)\n",
    "pd.set_option(\"display.max_rows\", 5)\n",
    "pd.set_option(\"display.max_columns\", 5)\n",
    "df_x"
   ]
  },
  {
   "cell_type": "code",
   "execution_count": null,
   "id": "4d96b462",
   "metadata": {},
   "outputs": [],
   "source": [
    "plotly_heatmap(df_x, zmin=-0.4, zmax=0.4)\n",
    "#, text_auto='.2f')"
   ]
  },
  {
   "cell_type": "markdown",
   "id": "e86e5a61",
   "metadata": {},
   "source": [
    "# y phase velocity plot"
   ]
  },
  {
   "cell_type": "code",
   "execution_count": null,
   "id": "05c212a7",
   "metadata": {},
   "outputs": [],
   "source": [
    "filename = f'simulation_data_samples/y_phase_velocity_snapshot_time={frame}0.dat'\n",
    "df_y = generate_df(filename)\n",
    "plotly_heatmap(df_y, zmin=-0.4, zmax=0.4)"
   ]
  },
  {
   "cell_type": "markdown",
   "id": "014c6f7f",
   "metadata": {},
   "source": [
    "# Bohmian potential plot"
   ]
  },
  {
   "cell_type": "code",
   "execution_count": null,
   "id": "3f415dff",
   "metadata": {},
   "outputs": [],
   "source": [
    "filename = f'simulation_data_samples/Bohmian_potential_time={frame}0.dat'\n",
    "df_bp = generate_df(filename)\n",
    "plotly_heatmap(df_bp, zmin=-3, zmax=0)"
   ]
  },
  {
   "cell_type": "markdown",
   "id": "102d6612",
   "metadata": {},
   "source": [
    "# Wavefunction plot"
   ]
  },
  {
   "cell_type": "code",
   "execution_count": null,
   "id": "0c5f5357",
   "metadata": {},
   "outputs": [],
   "source": [
    "filename = f'simulation_data_samples/WF_pow_2_time={43.7}0.dat'\n",
    "df_wf = generate_df(filename)\n",
    "plotly_heatmap(df_wf, zmin=10e-21, zmax=10e-19)"
   ]
  },
  {
   "cell_type": "markdown",
   "id": "e27539a5",
   "metadata": {},
   "source": [
    "# 3D Plot for local minima in Bohmian potential"
   ]
  },
  {
   "cell_type": "code",
   "execution_count": null,
   "id": "7f0c4b18",
   "metadata": {},
   "outputs": [],
   "source": [
    "def generate_df_3d(filename):\n",
    "    data = np.genfromtxt(filename, delimiter='\\t')\n",
    "    x_axis = data[0][1:-1]\n",
    "    y_axis = np.flip(data[:,0][1:])\n",
    "    data = np.delete(data, 818, axis=1)\n",
    "    data = np.delete(data, 0, axis=0)\n",
    "    data = np.delete(data, 0 ,axis=1)\n",
    "    data = np.rot90(data, 1)\n",
    "    value = 50\n",
    "    data[data<-value] = -value\n",
    "    print(\"Data shape: \", data.shape)\n",
    "    return pd.DataFrame(data=data, index=y_axis, columns=x_axis)"
   ]
  },
  {
   "cell_type": "code",
   "execution_count": null,
   "id": "e59d8e5a",
   "metadata": {},
   "outputs": [],
   "source": [
    "import plotly.graph_objects as go\n",
    "import pandas as pd\n",
    "\n",
    "frame = np.round(43.7, 1)\n",
    "filename = f'simulation_data_samples/Bohmian_potential_time={frame}0.dat'\n",
    "df_bp_3d = generate_df_3d(filename)\n",
    "\n",
    "fig = go.Figure(data=[go.Surface(z=df_bp_3d.values, y=df_bp_3d.index, x=df_bp_3d.columns)])\n",
    "\n",
    "fig.update_layout(title='', autosize=False,\n",
    "                  width=1000, height=1000,\n",
    "                  margin=dict(l=65, r=50, b=65, t=90))\n",
    "fig.update_layout(xaxis={'title': 'x-position[au]'}, \n",
    "                  yaxis={'title': 'y-position[au]'})\n",
    "fig.update_layout(font=dict(size=16))\n",
    "fig.update_layout(yaxis = dict(tickfont = dict(size=10)))\n",
    "fig.update_layout(xaxis = dict(tickfont = dict(size=10)))\n",
    "\n",
    "fig.show()"
   ]
  },
  {
   "cell_type": "code",
   "execution_count": null,
   "id": "5749ef62",
   "metadata": {},
   "outputs": [],
   "source": []
  }
 ],
 "metadata": {
  "kernelspec": {
   "display_name": "Python 3 (ipykernel)",
   "language": "python",
   "name": "python3"
  },
  "language_info": {
   "codemirror_mode": {
    "name": "ipython",
    "version": 3
   },
   "file_extension": ".py",
   "mimetype": "text/x-python",
   "name": "python",
   "nbconvert_exporter": "python",
   "pygments_lexer": "ipython3",
   "version": "3.8.5"
  }
 },
 "nbformat": 4,
 "nbformat_minor": 5
}
