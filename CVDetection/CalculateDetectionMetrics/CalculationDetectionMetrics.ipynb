{
 "cells": [
  {
   "cell_type": "code",
   "execution_count": 110,
   "id": "5d871442",
   "metadata": {},
   "outputs": [],
   "source": [
    "import cv2\n",
    "import numpy as np\n",
    "import matplotlib.pyplot as plt\n",
    "import pandas as pd\n",
    "import ast\n",
    "import json\n",
    "from os import listdir\n",
    "from os.path import isfile, join"
   ]
  },
  {
   "cell_type": "code",
   "execution_count": 111,
   "id": "5a301bcc",
   "metadata": {},
   "outputs": [
    {
     "data": {
      "text/plain": [
       "array([ 30. ,  33. ,  36. ,  39. ,  42.1,  45. ,  48. ,  51. ,  54. ,\n",
       "        57. ,  60. ,  63. ,  66. ,  69. ,  72. ,  75. ,  78. ,  81. ,\n",
       "        84. ,  87. ,  90. ,  93. ,  96. ,  99. , 102. , 105. , 108. ,\n",
       "       111. , 114. , 117. , 120. , 123. , 126. , 129. , 132. , 135. ,\n",
       "       138. , 141. , 144. , 147. , 150. , 153. , 156. , 159. , 162. ,\n",
       "       165. , 168. , 171. , 174. , 177. , 180. , 183. , 186. , 189. ,\n",
       "       192. , 195. , 198. , 201. , 204. , 207. , 210.1, 214. , 217. ,\n",
       "       220. , 223. , 226. , 229. , 232. , 235. , 238. , 241. , 244. ,\n",
       "       247. , 250. , 253. , 256. , 259. , 262. , 265. , 268. , 271. ,\n",
       "       274. , 277. , 280. , 283. , 286. , 289. , 292. , 295. , 298. ,\n",
       "       301. , 304. , 307. , 310. , 313. , 316. , 319. , 322. , 325. ,\n",
       "       328. ])"
      ]
     },
     "execution_count": 111,
     "metadata": {},
     "output_type": "execute_result"
    }
   ],
   "source": [
    "''' EXTRACT TIME RANGE '''\n",
    "mypath = 'cropped_data_labeled/'\n",
    "onlyfiles = [f for f in listdir(mypath) if isfile(join(mypath, f))]\n",
    "time_range = np.array(sorted([float(x[19:-5]) for x in list(filter(lambda s: 'json' in s, onlyfiles))]))\n",
    "time_range = time_range[time_range >= 30]\n",
    "time_range"
   ]
  },
  {
   "cell_type": "code",
   "execution_count": 85,
   "id": "f9314eeb",
   "metadata": {},
   "outputs": [],
   "source": [
    "detected_vortices = [(230,510), (100,200), (1000,1050), (540,1050), (549,740)]"
   ]
  },
  {
   "cell_type": "code",
   "execution_count": 86,
   "id": "df96c3f7",
   "metadata": {},
   "outputs": [
    {
     "data": {
      "text/plain": [
       "True"
      ]
     },
     "execution_count": 86,
     "metadata": {},
     "output_type": "execute_result"
    }
   ],
   "source": [
    "frame = cv2.imread(f'cropped_data_labeled/x_vel_cropped_time={np.round(t,1)}0.png')\n",
    "for x,y in detected_vortices:\n",
    "    cv2.rectangle(frame, (x-2,y-2), (x+2,y+2), (0,0,0), 1)\n",
    "cv2.imwrite('result.png', frame)"
   ]
  },
  {
   "cell_type": "code",
   "execution_count": 77,
   "id": "26dc41de",
   "metadata": {},
   "outputs": [],
   "source": [
    "t = time_range[50]\n",
    "''' READ JSON FILES WITH LABELED BOUNDING BOXES '''\n",
    "with open(f'cropped_data_labeled/x_vel_cropped_time={np.round(t,1)}0.json', 'r') as f:\n",
    "    dictData = json.load(f)"
   ]
  },
  {
   "cell_type": "code",
   "execution_count": 83,
   "id": "c331e866",
   "metadata": {},
   "outputs": [
    {
     "name": "stdout",
     "output_type": "stream",
     "text": [
      "vortex 1 235 517 223 505\n",
      "vortex 2 345 495 358 506\n",
      "vortex 3 338 333 352 350\n",
      "vortex 4 695 526 707 536\n",
      "vortex 5 720 551 709 540\n",
      "vortex 6 553 749 541 734\n",
      "vortex 7 511 707 500 694\n",
      "vortex 8 177 727 188 736\n",
      "vortex 9 266 700 278 709\n",
      "vortex 10 132 804 142 812\n",
      "vortex 11 432 1102 442 1114\n",
      "vortex 12 512 1058 522 1070\n",
      "vortex 13 537 968 547 980\n",
      "vortex 14 732 1010 741 1026\n",
      "vortex 15 896 898 921 907\n",
      "vortex 16 741 888 752 902\n"
     ]
    },
    {
     "data": {
      "text/plain": [
       "True"
      ]
     },
     "execution_count": 83,
     "metadata": {},
     "output_type": "execute_result"
    }
   ],
   "source": [
    "frame = cv2.imread(f'cropped_data_labeled/x_vel_cropped_time={np.round(t,1)}0.png')\n",
    "labeled_mask = np.zeros((frame.shape[:2]), dtype='uint8')\n",
    "for i, vortex in enumerate(dictData['shapes']):\n",
    "    a = int(vortex['points'][0][0])\n",
    "    b = int(vortex['points'][0][1])\n",
    "    c = int(vortex['points'][1][0])\n",
    "    d = int(vortex['points'][1][1])\n",
    "    print(f'vortex {i+1}', a, b, c, d)\n",
    "    cv2.rectangle(labeled_mask, (a,b), (c,d), (255,255,255), cv2.FILLED)\n",
    "    cv2.rectangle(frame, (a,b), (c,d), (0,0,0), 1)\n",
    "cv2.imwrite('result.png', labeled_mask)"
   ]
  },
  {
   "cell_type": "code",
   "execution_count": 90,
   "id": "e3bdf944",
   "metadata": {},
   "outputs": [
    {
     "data": {
      "text/plain": [
       "(1247, 1247)"
      ]
     },
     "execution_count": 90,
     "metadata": {},
     "output_type": "execute_result"
    }
   ],
   "source": [
    "frame.shape[:2]"
   ]
  },
  {
   "cell_type": "code",
   "execution_count": 106,
   "id": "e9204638",
   "metadata": {},
   "outputs": [],
   "source": [
    "TP = []\n",
    "for i, vortex in enumerate(dictData['shapes']):\n",
    "    labeled_mask = np.zeros((frame.shape[:2]), dtype='uint8')\n",
    "    a = int(vortex['points'][0][0])\n",
    "    b = int(vortex['points'][0][1])\n",
    "    c = int(vortex['points'][1][0])\n",
    "    d = int(vortex['points'][1][1])\n",
    "#         print(f'vortex {i+1}', a, b, c, d)\n",
    "    cv2.rectangle(labeled_mask, (a,b), (c,d), 255, cv2.FILLED)\n",
    "    for x,y in detected_vortices:\n",
    "        if (x,y) not in TP:\n",
    "            detected_vortex = np.zeros((frame.shape[:2]), dtype='uint8')\n",
    "            cv2.rectangle(detected_vortex, (x-2,y-2), (x+2,y+2), 255, cv2.FILLED)\n",
    "            result = np.all(cv2.bitwise_and(detected_vortex, labeled_mask) == 0)\n",
    "            if not result:\n",
    "                TP.append((x,y))\n",
    "                break"
   ]
  },
  {
   "cell_type": "code",
   "execution_count": 107,
   "id": "b2050873",
   "metadata": {},
   "outputs": [],
   "source": [
    "tp_count = len(TP) #CORRECT\n",
    "fp_count = len(detected_vortices) - len(TP) #INCORRECT\n",
    "fn_count = len(dictData['shapes']) - len(TP) #UNDETECTED"
   ]
  },
  {
   "cell_type": "code",
   "execution_count": 108,
   "id": "792f1c50",
   "metadata": {},
   "outputs": [
    {
     "data": {
      "text/plain": [
       "(2, 3, 14)"
      ]
     },
     "execution_count": 108,
     "metadata": {},
     "output_type": "execute_result"
    }
   ],
   "source": [
    "tp_count, fp_count, fn_count "
   ]
  },
  {
   "cell_type": "code",
   "execution_count": 109,
   "id": "030f148f",
   "metadata": {},
   "outputs": [
    {
     "data": {
      "text/plain": [
       "True"
      ]
     },
     "execution_count": 109,
     "metadata": {},
     "output_type": "execute_result"
    }
   ],
   "source": [
    "''' CHECK IF CALCULATION WAS GOOD '''\n",
    "frame = cv2.imread(f'cropped_data_labeled/x_vel_cropped_time={np.round(t,1)}0.png')\n",
    "for x,y in TP:\n",
    "    cv2.rectangle(frame, (x-2,y-2), (x+2,y+2), (0,0,0), 1)\n",
    "cv2.imwrite('result.png', frame)"
   ]
  },
  {
   "cell_type": "code",
   "execution_count": null,
   "id": "e2d3b4a6",
   "metadata": {},
   "outputs": [],
   "source": [
    "detected_vortices[t] = [, , , ]"
   ]
  }
 ],
 "metadata": {
  "kernelspec": {
   "display_name": "Python 3 (ipykernel)",
   "language": "python",
   "name": "python3"
  },
  "language_info": {
   "codemirror_mode": {
    "name": "ipython",
    "version": 3
   },
   "file_extension": ".py",
   "mimetype": "text/x-python",
   "name": "python",
   "nbconvert_exporter": "python",
   "pygments_lexer": "ipython3",
   "version": "3.8.5"
  }
 },
 "nbformat": 4,
 "nbformat_minor": 5
}
