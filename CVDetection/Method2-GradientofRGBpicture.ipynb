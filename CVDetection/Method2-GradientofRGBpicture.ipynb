{
 "cells": [
  {
   "cell_type": "code",
   "execution_count": 1,
   "id": "bc582829",
   "metadata": {},
   "outputs": [],
   "source": [
    "import cv2\n",
    "import numpy as np\n",
    "import matplotlib.pyplot as plt\n",
    "from os import listdir\n",
    "from os.path import isfile, join\n",
    "import json\n",
    "import pandas as pd\n",
    "import time"
   ]
  },
  {
   "cell_type": "code",
   "execution_count": 2,
   "id": "bd39b25f",
   "metadata": {},
   "outputs": [],
   "source": [
    "def get_vortices_coordinates(mask, frame):\n",
    "    _, contours, hierarchy= cv2.findContours(mask, cv2.RETR_EXTERNAL, cv2.CHAIN_APPROX_NONE)\n",
    "    vortices_list = []\n",
    "    for (i,c) in enumerate(contours):\n",
    "        ''' FIRST VERSION '''\n",
    "#         cx= int(c[0][0][0] * frame.shape[0] / mask.shape[0])\n",
    "#         cy= int(c[0][0][1] * frame.shape[0] / mask.shape[0])\n",
    "        \n",
    "        ''' SECOND VERSION - BETTER '''\n",
    "        middle_pixel = int(len(c) / 2)\n",
    "        cx= int(c[middle_pixel][0][0] * frame.shape[0] / mask.shape[0])\n",
    "        cy= int(c[middle_pixel][0][1] * frame.shape[0] / mask.shape[0])\n",
    "        vortices_list.append((cx, cy))\n",
    "    return vortices_list"
   ]
  },
  {
   "cell_type": "markdown",
   "id": "0d5ce60f",
   "metadata": {},
   "source": [
    "# EXTRACTION MOMENTS OF TIME FOR WHICH THE DATA IS LABELED"
   ]
  },
  {
   "cell_type": "code",
   "execution_count": 3,
   "id": "539c875f",
   "metadata": {},
   "outputs": [
    {
     "data": {
      "text/plain": [
       "array([ 30. ,  33. ,  36. ,  39. ,  42.1,  45. ,  48. ,  51. ,  54. ,\n",
       "        57. ,  60. ,  63. ,  66. ,  69. ,  72. ,  75. ,  78. ,  81. ,\n",
       "        84. ,  87. ,  90. ,  93. ,  96. ,  99. , 102. , 105. , 108. ,\n",
       "       111. , 114. , 117. , 120. , 123. , 126. , 129. , 132. , 135. ,\n",
       "       138. , 141. , 144. , 147. , 150. , 153. , 156. , 159. , 162. ,\n",
       "       165. , 168. , 171. , 174. , 177. , 180. , 183. , 186. , 189. ,\n",
       "       192. , 195. , 198. , 201. , 204. , 207. , 210.1, 214. , 217. ,\n",
       "       220. , 223. , 226. , 229. , 232. , 235. , 238. , 241. , 244. ,\n",
       "       247. , 250. , 253. , 256. , 259. , 262. , 265. , 268. , 271. ,\n",
       "       274. , 277. , 280. , 283. , 286. , 289. , 292. , 295. , 298. ,\n",
       "       301. , 304. , 307. , 310. , 313. , 316. , 319. , 322. , 325. ,\n",
       "       328. ])"
      ]
     },
     "execution_count": 3,
     "metadata": {},
     "output_type": "execute_result"
    }
   ],
   "source": [
    "''' EXTRACT TIME RANGE '''\n",
    "mypath = 'CalculateDetectionMetrics/cropped_data_labeled/'\n",
    "onlyfiles = [f for f in listdir(mypath) if isfile(join(mypath, f))]\n",
    "time_range = np.array(sorted([float(x[19:-5]) for x in list(filter(lambda s: 'json' in s, onlyfiles))]))\n",
    "time_range = time_range[time_range >= 30]\n",
    "time_range = np.round(time_range, 1)\n",
    "time_range"
   ]
  },
  {
   "cell_type": "markdown",
   "id": "7f9d9c8e",
   "metadata": {},
   "source": [
    "# METHOD 2 ALGORITHM"
   ]
  },
  {
   "cell_type": "code",
   "execution_count": 4,
   "id": "6896c088",
   "metadata": {},
   "outputs": [
    {
     "name": "stdout",
     "output_type": "stream",
     "text": [
      "It has been 6.559266805648804 seconds since the loop started\n"
     ]
    }
   ],
   "source": [
    "program_starts = time.time()\n",
    "\n",
    "detected_vortices = {}\n",
    "\n",
    "for t in time_range:\n",
    "    frame = cv2.imread(f'CalculateDetectionMetrics/cropped_data_labeled/x_vel_cropped_time={np.round(t, 1)}0.png')\n",
    "    img = cv2.cvtColor(frame, cv2.COLOR_BGR2GRAY)\n",
    "    img = img[20:1230, 20:1230]\n",
    "    gradx = cv2.Sobel(img,cv2.CV_64F,1,0,ksize=3)\n",
    "    grady = cv2.Sobel(img,cv2.CV_64F,0,1,ksize=3)\n",
    "    gradmag = cv2.magnitude(gradx,grady)\n",
    "    ret,mask = cv2.threshold(gradmag,240,255,cv2.THRESH_BINARY)\n",
    "    # kernel = np.ones((2,2), dtype='uint8')\n",
    "    # mask = cv2.dilate(mask, kernel)\n",
    "    # mask = 255 - mask\n",
    "    mask = mask.astype('uint8')\n",
    "    \n",
    "    '''GET DETECTED VORTICES COORDINATES'''\n",
    "    detected_vortices[np.round(t,1)] = get_vortices_coordinates(mask, frame)\n",
    "\n",
    "now = time.time()\n",
    "print(\"It has been {0} seconds since the loop started\".format(now - program_starts))"
   ]
  },
  {
   "cell_type": "code",
   "execution_count": 52,
   "id": "e10cadb7",
   "metadata": {},
   "outputs": [
    {
     "data": {
      "text/plain": [
       "Text(0.5, 1.0, 'MASK FOR T=328.0')"
      ]
     },
     "execution_count": 52,
     "metadata": {},
     "output_type": "execute_result"
    },
    {
     "data": {
      "image/png": "[encoded data removed]",
      "text/plain": [
       "<Figure size 864x864 with 1 Axes>"
      ]
     },
     "metadata": {
      "needs_background": "light"
     },
     "output_type": "display_data"
    }
   ],
   "source": [
    "# _, contours, hierarchy= cv2.findContours(mask, cv2.RETR_EXTERNAL, cv2.CHAIN_APPROX_NONE)\n",
    "# vortices_list = []\n",
    "# for (i,c) in enumerate(contours):\n",
    "#     middle_pixel = int(len(c) / 2)\n",
    "#     cx= int(c[middle_pixel][0][0])# * frame.shape[0] / mask.shape[0])\n",
    "#     cy= int(c[middle_pixel][0][1])# * frame.shape[0] / mask.shape[0])\n",
    "#     vortices_list.append((cx, cy))\n",
    "\n",
    "# for (x,y) in vortices_list:\n",
    "#     color = (255,255,255)\n",
    "#     cv2.rectangle(mask, (x-12,y-12), (x+12,y+12), color, 1)\n",
    "\n",
    "plt.figure(figsize=(12,12))\n",
    "plt.imshow(mask)\n",
    "plt.title(f'MASK FOR T={t}')"
   ]
  },
  {
   "cell_type": "markdown",
   "id": "0df23d51",
   "metadata": {},
   "source": [
    "# TP, FP, FN METRICS CALCULATIONS"
   ]
  },
  {
   "cell_type": "code",
   "execution_count": 49,
   "id": "e9301f9d",
   "metadata": {},
   "outputs": [
    {
     "name": "stdout",
     "output_type": "stream",
     "text": [
      "30.0\n",
      "60.0\n",
      "90.0\n",
      "120.0\n",
      "150.0\n",
      "180.0\n",
      "210.1\n",
      "241.0\n",
      "271.0\n",
      "301.0\n"
     ]
    }
   ],
   "source": [
    "''' READ JSON FILES WITH LABELED BOUNDING BOXES '''\n",
    "bbox_size = 3\n",
    "for index, t in enumerate(time_range):\n",
    "    with open(f'CalculateDetectionMetrics/cropped_data_labeled/x_vel_cropped_time={np.round(t,1)}0.json', 'r') as f:\n",
    "        dictData = json.load(f)\n",
    "    frame = cv2.imread(f'CalculateDetectionMetrics/cropped_data_labeled/x_vel_cropped_time={np.round(t,1)}0.png')\n",
    "    TP = []\n",
    "    for i, vortex in enumerate(dictData['shapes']):\n",
    "        labeled_mask = np.zeros((frame.shape[:2]), dtype='uint8')\n",
    "        a = int(vortex['points'][0][0])\n",
    "        b = int(vortex['points'][0][1])\n",
    "        c = int(vortex['points'][1][0])\n",
    "        d = int(vortex['points'][1][1])\n",
    "    #         print(f'vortex {i+1}', a, b, c, d)\n",
    "        cv2.rectangle(labeled_mask, (a,b), (c,d), 255, cv2.FILLED)\n",
    "        for x,y in detected_vortices[np.round(t,1)]:\n",
    "            if (x,y) not in TP:\n",
    "                detected_vortex = np.zeros((frame.shape[:2]), dtype='uint8')\n",
    "                cv2.rectangle(detected_vortex, (x-bbox_size,y-bbox_size), (x+bbox_size,y+bbox_size), 255, cv2.FILLED)\n",
    "                result = np.all(cv2.bitwise_and(detected_vortex, labeled_mask) == 0)\n",
    "                if not result:\n",
    "                    TP.append((x,y))\n",
    "                    break\n",
    "    tp_count = len(TP) #CORRECT\n",
    "    fp_count = len(detected_vortices[np.round(t,1)]) - len(TP) #INCORRECT\n",
    "    fn_count = len(dictData['shapes']) - len(TP) #UNDETECTED\n",
    "    \n",
    "    ''' INSPECTION IF CALCULATION WORK PROPERLY '''\n",
    "    if index % 10 == 0:\n",
    "        for (x,y) in detected_vortices[np.round(t,1)]:\n",
    "            if (x,y) in TP:\n",
    "                color = (0,255,0)\n",
    "            else:\n",
    "                color = (0,0,255)\n",
    "            cv2.rectangle(frame, (x-12,y-12), (x+12,y+12), color, 2)\n",
    "        for parameter, value, shift in zip(['T=', 'TP=', 'FP=', 'FN='], [t, tp_count, fp_count, fn_count], [30, 60, 90, 120]):\n",
    "            cv2.putText(frame, text=parameter+str(value), org=(10, shift),\n",
    "                    fontFace= cv2.FONT_HERSHEY_SIMPLEX, fontScale=0.9, color=(0,0,0),\n",
    "                    thickness=1, lineType=cv2.LINE_AA)\n",
    "        cv2.imwrite(f'Method2-GradientofRGBpicture_RESULTS/TP_FP_{np.round(t,1)}.png', frame)\n",
    "        print(t)\n",
    "    ''' SAVE RESULTS TO FILE '''\n",
    "#     print(t, tp_count, fp_count, fn_count)\n",
    "    with open('Method2-GradientofRGBpicture_RESULTS/Method2-Detection-Metrics-Results.csv', 'a') as fr:\n",
    "        fr.write(f'{t}\\t{tp_count}\\t{fp_count}\\t{fn_count}\\n')"
   ]
  },
  {
   "cell_type": "markdown",
   "id": "90a85e49",
   "metadata": {},
   "source": [
    "# FINAL METRICS SUMMATION"
   ]
  },
  {
   "cell_type": "code",
   "execution_count": 45,
   "id": "3c0416e3",
   "metadata": {},
   "outputs": [
    {
     "data": {
      "text/html": [
       "<div>\n",
       "<style scoped>\n",
       "    .dataframe tbody tr th:only-of-type {\n",
       "        vertical-align: middle;\n",
       "    }\n",
       "\n",
       "    .dataframe tbody tr th {\n",
       "        vertical-align: top;\n",
       "    }\n",
       "\n",
       "    .dataframe thead th {\n",
       "        text-align: right;\n",
       "    }\n",
       "</style>\n",
       "<table border=\"1\" class=\"dataframe\">\n",
       "  <thead>\n",
       "    <tr style=\"text-align: right;\">\n",
       "      <th></th>\n",
       "      <th>TP</th>\n",
       "      <th>FP</th>\n",
       "      <th>FN</th>\n",
       "    </tr>\n",
       "    <tr>\n",
       "      <th>TIME</th>\n",
       "      <th></th>\n",
       "      <th></th>\n",
       "      <th></th>\n",
       "    </tr>\n",
       "  </thead>\n",
       "  <tbody>\n",
       "    <tr>\n",
       "      <th>30.0</th>\n",
       "      <td>4</td>\n",
       "      <td>3</td>\n",
       "      <td>1</td>\n",
       "    </tr>\n",
       "    <tr>\n",
       "      <th>33.0</th>\n",
       "      <td>1</td>\n",
       "      <td>10</td>\n",
       "      <td>5</td>\n",
       "    </tr>\n",
       "    <tr>\n",
       "      <th>36.0</th>\n",
       "      <td>2</td>\n",
       "      <td>4</td>\n",
       "      <td>4</td>\n",
       "    </tr>\n",
       "    <tr>\n",
       "      <th>39.0</th>\n",
       "      <td>2</td>\n",
       "      <td>7</td>\n",
       "      <td>3</td>\n",
       "    </tr>\n",
       "    <tr>\n",
       "      <th>42.1</th>\n",
       "      <td>0</td>\n",
       "      <td>1</td>\n",
       "      <td>2</td>\n",
       "    </tr>\n",
       "    <tr>\n",
       "      <th>...</th>\n",
       "      <td>...</td>\n",
       "      <td>...</td>\n",
       "      <td>...</td>\n",
       "    </tr>\n",
       "    <tr>\n",
       "      <th>316.0</th>\n",
       "      <td>24</td>\n",
       "      <td>43</td>\n",
       "      <td>20</td>\n",
       "    </tr>\n",
       "    <tr>\n",
       "      <th>319.0</th>\n",
       "      <td>20</td>\n",
       "      <td>39</td>\n",
       "      <td>22</td>\n",
       "    </tr>\n",
       "    <tr>\n",
       "      <th>322.0</th>\n",
       "      <td>27</td>\n",
       "      <td>34</td>\n",
       "      <td>21</td>\n",
       "    </tr>\n",
       "    <tr>\n",
       "      <th>325.0</th>\n",
       "      <td>16</td>\n",
       "      <td>33</td>\n",
       "      <td>20</td>\n",
       "    </tr>\n",
       "    <tr>\n",
       "      <th>328.0</th>\n",
       "      <td>21</td>\n",
       "      <td>52</td>\n",
       "      <td>25</td>\n",
       "    </tr>\n",
       "  </tbody>\n",
       "</table>\n",
       "<p>100 rows × 3 columns</p>\n",
       "</div>"
      ],
      "text/plain": [
       "       TP  FP  FN\n",
       "TIME             \n",
       "30.0    4   3   1\n",
       "33.0    1  10   5\n",
       "36.0    2   4   4\n",
       "39.0    2   7   3\n",
       "42.1    0   1   2\n",
       "...    ..  ..  ..\n",
       "316.0  24  43  20\n",
       "319.0  20  39  22\n",
       "322.0  27  34  21\n",
       "325.0  16  33  20\n",
       "328.0  21  52  25\n",
       "\n",
       "[100 rows x 3 columns]"
      ]
     },
     "execution_count": 45,
     "metadata": {},
     "output_type": "execute_result"
    }
   ],
   "source": [
    "df_metrics = pd.read_csv('Method2-GradientofRGBpicture_RESULTS/Method2-Detection-Metrics-Results.csv', header=None, delimiter='\\t')\n",
    "df_metrics.columns = ['TIME', 'TP', 'FP', 'FN']\n",
    "df_metrics.set_index('TIME', inplace=True)\n",
    "df_metrics"
   ]
  },
  {
   "cell_type": "code",
   "execution_count": 46,
   "id": "2d12f80f",
   "metadata": {},
   "outputs": [
    {
     "data": {
      "text/plain": [
       "TP     936\n",
       "FP    2708\n",
       "FN    1417\n",
       "dtype: int64"
      ]
     },
     "execution_count": 46,
     "metadata": {},
     "output_type": "execute_result"
    }
   ],
   "source": [
    "df_metrics.sum()"
   ]
  },
  {
   "cell_type": "code",
   "execution_count": 51,
   "id": "c23cc7fd",
   "metadata": {},
   "outputs": [
    {
     "data": {
      "text/plain": [
       "TP    1121\n",
       "FP    2523\n",
       "FN    1232\n",
       "dtype: int64"
      ]
     },
     "execution_count": 51,
     "metadata": {},
     "output_type": "execute_result"
    }
   ],
   "source": [
    "df_metrics = pd.read_csv('Method2-GradientofRGBpicture_RESULTS/Method2-Detection-Metrics-Results____VERSION_2.csv', header=None, delimiter='\\t')\n",
    "df_metrics.columns = ['TIME', 'TP', 'FP', 'FN']\n",
    "df_metrics.set_index('TIME', inplace=True)\n",
    "df_metrics.sum()"
   ]
  },
  {
   "cell_type": "markdown",
   "id": "b2bcbd2f",
   "metadata": {},
   "source": [
    "# SAVE TO FILE DETECTED COORDINATES"
   ]
  },
  {
   "cell_type": "code",
   "execution_count": 5,
   "id": "47dc503d",
   "metadata": {},
   "outputs": [],
   "source": [
    "with open('Method2-GradientofRGBpicture_RESULTS/detected_vortices.txt','w') as data: \n",
    "      data.write(str(detected_vortices))"
   ]
  },
  {
   "cell_type": "code",
   "execution_count": null,
   "id": "512c87e5",
   "metadata": {},
   "outputs": [],
   "source": []
  }
 ],
 "metadata": {
  "kernelspec": {
   "display_name": "Python 3 (ipykernel)",
   "language": "python",
   "name": "python3"
  },
  "language_info": {
   "codemirror_mode": {
    "name": "ipython",
    "version": 3
   },
   "file_extension": ".py",
   "mimetype": "text/x-python",
   "name": "python",
   "nbconvert_exporter": "python",
   "pygments_lexer": "ipython3",
   "version": "3.8.5"
  }
 },
 "nbformat": 4,
 "nbformat_minor": 5
}
