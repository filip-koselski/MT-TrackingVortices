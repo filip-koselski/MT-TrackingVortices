{
 "cells": [
  {
   "cell_type": "code",
   "execution_count": 6,
   "id": "25e1e9c6",
   "metadata": {},
   "outputs": [],
   "source": [
    "import cv2\n",
    "import numpy as np\n",
    "import matplotlib.pyplot as plt\n",
    "from os import listdir\n",
    "from os.path import isfile, join\n",
    "import json\n",
    "import pandas as pd\n",
    "import time\n",
    "from skimage.morphology import skeletonize\n",
    "def moving_average(x, w):\n",
    "    return np.convolve(x, np.ones(w), 'valid') / w"
   ]
  },
  {
   "cell_type": "code",
   "execution_count": 7,
   "id": "43a40dc8",
   "metadata": {},
   "outputs": [],
   "source": [
    "def get_vortices_coordinates(mask, data):\n",
    "    _, contours, hierarchy= cv2.findContours(mask, cv2.RETR_EXTERNAL, cv2.CHAIN_APPROX_NONE)\n",
    "    vortices_coordinates = []\n",
    "    for cnt in contours:\n",
    "        img = np.zeros( data.shape )\n",
    "        cnt_filled = cv2.fillPoly(img, pts = [cnt], color=(255,255,255))\n",
    "        \n",
    "        locs = np.where(cnt_filled == 255)\n",
    "        \n",
    "        ''' Checking if contour is not too large ''' \n",
    "        if len(locs[0]) < 900: \n",
    "            pixels = data[locs]\n",
    "            M= cv2.moments(cnt)\n",
    "            try:\n",
    "                cx= int(M['m10']/M['m00'])\n",
    "                cy= int(M['m01']/M['m00'])\n",
    "                \n",
    "                \"\"\" Pixel analysis \"\"\"\n",
    "                pix = pd.DataFrame(data=moving_average(pixels, min(int(0.27*len(pixels)), 25)))\n",
    "                zero_crossings = len(np.where(np.diff(np.signbit(pix[0])))[0])\n",
    "                if zero_crossings > 0:\n",
    "                    if zero_crossings > 1:\n",
    "                        locs = np.where(skeletonize(cnt_filled == 255) == True)\n",
    "                        pixels = data[locs]\n",
    "                        pix = pd.DataFrame(data=pixels)\n",
    "                        zero_crossings = len(np.where(np.diff(np.signbit(pix[0])))[0])\n",
    "                        if len(pix) > 16:\n",
    "                            my_locs = locs\n",
    "                            pix = pd.DataFrame(data=moving_average(pixels,2))\n",
    "                            zero_crossings = len(np.where(np.diff(np.signbit(pix[0])))[0])\n",
    "                            range_v = range(min(zero_crossings,2))\n",
    "                            if len(range_v) > 1:\n",
    "                                my_locs= locs\n",
    "                                modified_coordinates = [list(zip(locs[0], locs[1]))[1], list(zip(locs[0], locs[1]))[-2]]\n",
    "                                for (i, (new_y, new_x)) in zip(range_v, modified_coordinates):\n",
    "                                    vortices_coordinates.append((new_x, new_y))\n",
    "                            else:\n",
    "                                for i in range_v:\n",
    "                                    vortices_coordinates.append((cx+i, cy+i))\n",
    "                        else:\n",
    "\n",
    "                            vortices_coordinates.append((cx,cy))\n",
    "                    else:\n",
    "                        vortices_coordinates.append((cx,cy))\n",
    "                        \n",
    "                elif zero_crossings == 0 and pixels.min() == -0.5 and pixels.max() == 0.5:\n",
    "                    vortices_coordinates.append((cx,cy))\n",
    "            except ZeroDivisionError:\n",
    "                print(\"Zero division\")\n",
    "                \n",
    "    return vortices_coordinates"
   ]
  },
  {
   "cell_type": "code",
   "execution_count": 8,
   "id": "2df92cb1",
   "metadata": {},
   "outputs": [],
   "source": [
    "def convert_coordinates_to_frame(mask, frame, coordinates):\n",
    "    vortices_list = []\n",
    "    for x,y in coordinates:\n",
    "        cx= int(x * frame.shape[0] / mask.shape[0])\n",
    "        cy= int(y * frame.shape[0] / mask.shape[0])\n",
    "        vortices_list.append((cx, cy))\n",
    "    return vortices_list"
   ]
  },
  {
   "cell_type": "markdown",
   "id": "aee7bb2e",
   "metadata": {},
   "source": [
    "# EXTRACTION MOMENTS OF TIME FOR WHICH THE DATA IS LABELED"
   ]
  },
  {
   "cell_type": "code",
   "execution_count": 9,
   "id": "62c3ccc1",
   "metadata": {},
   "outputs": [
    {
     "data": {
      "text/plain": [
       "array([ 30. ,  33. ,  36. ,  39. ,  42.1,  45. ,  48. ,  51. ,  54. ,\n",
       "        57. ,  60. ,  63. ,  66. ,  69. ,  72. ,  75. ,  78. ,  81. ,\n",
       "        84. ,  87. ,  90. ,  93. ,  96. ,  99. , 102. , 105. , 108. ,\n",
       "       111. , 114. , 117. , 120. , 123. , 126. , 129. , 132. , 135. ,\n",
       "       138. , 141. , 144. , 147. , 150. , 153. , 156. , 159. , 162. ,\n",
       "       165. , 168. , 171. , 174. , 177. , 180. , 183. , 186. , 189. ,\n",
       "       192. , 195. , 198. , 201. , 204. , 207. , 210.1, 214. , 217. ,\n",
       "       220. , 223. , 226. , 229. , 232. , 235. , 238. , 241. , 244. ,\n",
       "       247. , 250. , 253. , 256. , 259. , 262. , 265. , 268. , 271. ,\n",
       "       274. , 277. , 280. , 283. , 286. , 289. , 292. , 295. , 298. ,\n",
       "       301. , 304. , 307. , 310. , 313. , 316. , 319. , 322. , 325. ,\n",
       "       328. ])"
      ]
     },
     "execution_count": 9,
     "metadata": {},
     "output_type": "execute_result"
    }
   ],
   "source": [
    "''' EXTRACT TIME RANGE '''\n",
    "mypath = 'CalculateDetectionMetrics/cropped_data_labeled/'\n",
    "onlyfiles = [f for f in listdir(mypath) if isfile(join(mypath, f))]\n",
    "time_range = np.array(sorted([float(x[19:-5]) for x in list(filter(lambda s: 'json' in s, onlyfiles))]))\n",
    "time_range = time_range[time_range >= 30]\n",
    "time_range = np.round(time_range, 1)\n",
    "time_range"
   ]
  },
  {
   "cell_type": "markdown",
   "id": "ebdbdb95",
   "metadata": {},
   "source": [
    "# METHOD 5 ALGORITHM"
   ]
  },
  {
   "cell_type": "code",
   "execution_count": 10,
   "id": "8e68a849",
   "metadata": {},
   "outputs": [
    {
     "name": "stdout",
     "output_type": "stream",
     "text": [
      "It has been 60.94582939147949 seconds since the loop started\n"
     ]
    }
   ],
   "source": [
    "program_starts = time.time()\n",
    "\n",
    "detected_vortices = {}\n",
    "\n",
    "for t in time_range:\n",
    "    data = np.genfromtxt(f'input_data/x_vel/x_phase_velocity_snapshot_time={np.round(t, 1)}0.dat', delimiter='\\t')\n",
    "    frame = cv2.imread(f'CalculateDetectionMetrics/cropped_data_labeled/x_vel_cropped_time={np.round(t, 1)}0.png')\n",
    "    data = np.delete(data, 818, axis=1)\n",
    "    data = np.delete(data, 0, axis=0)\n",
    "    data = np.delete(data, 0 ,axis = 1)\n",
    "    data = np.rot90(data, 1)\n",
    "    data[data > 0.4] = 0.5\n",
    "    data[data < (-0.4)] = -0.5\n",
    "\n",
    "    mask_x = np.array([-1,1])\n",
    "    mask_y = mask_x.T\n",
    "\n",
    "    Ix = cv2.filter2D(data, -1, mask_x)\n",
    "    Iy = cv2.filter2D(data, -1, mask_y)\n",
    "    I_xy = cv2.magnitude(Ix, Iy)\n",
    "\n",
    "    I_xy=abs(I_xy)\n",
    "    I_xy[I_xy <= 0.27] = 0\n",
    "    I_xy[I_xy > 0.27] = 255\n",
    "    \n",
    "    ''' MORPHOLOGY OPERATIONS'''\n",
    "    mask = np.uint8(I_xy)\n",
    "    kernel = np.ones((5,5), dtype='uint8')\n",
    "    mask = cv2.dilate(mask, kernel)\n",
    "    \n",
    "    ''' PIXEL ANALYSIS '''\n",
    "    coordinates_after_pixel_analysis = get_vortices_coordinates(mask, data)\n",
    "    \n",
    "    '''GET DETECTED VORTICES COORDINATES'''\n",
    "    detected_vortices[np.round(t,1)]  = convert_coordinates_to_frame(mask, frame, coordinates_after_pixel_analysis)\n",
    "    \n",
    "now = time.time()\n",
    "print(\"It has been {0} seconds since the loop started\".format(now - program_starts))"
   ]
  },
  {
   "cell_type": "markdown",
   "id": "238330b5",
   "metadata": {},
   "source": [
    "# TP, FP, FN METRICS CALCULATIONS"
   ]
  },
  {
   "cell_type": "code",
   "execution_count": 22,
   "id": "d1f2d30d",
   "metadata": {},
   "outputs": [
    {
     "name": "stdout",
     "output_type": "stream",
     "text": [
      "30.0\n",
      "60.0\n",
      "90.0\n",
      "120.0\n",
      "150.0\n",
      "180.0\n",
      "210.1\n",
      "241.0\n",
      "271.0\n",
      "301.0\n"
     ]
    }
   ],
   "source": [
    "''' READ JSON FILES WITH LABELED BOUNDING BOXES '''\n",
    "bbox_size = 3\n",
    "for index, t in enumerate(time_range):\n",
    "    with open(f'CalculateDetectionMetrics/cropped_data_labeled/x_vel_cropped_time={np.round(t,1)}0.json', 'r') as f:\n",
    "        dictData = json.load(f)\n",
    "    frame = cv2.imread(f'CalculateDetectionMetrics/cropped_data_labeled/x_vel_cropped_time={np.round(t,1)}0.png')\n",
    "    TP = []\n",
    "    for i, vortex in enumerate(dictData['shapes']):\n",
    "        labeled_mask = np.zeros((frame.shape[:2]), dtype='uint8')\n",
    "        a = int(vortex['points'][0][0])\n",
    "        b = int(vortex['points'][0][1])\n",
    "        c = int(vortex['points'][1][0])\n",
    "        d = int(vortex['points'][1][1])\n",
    "    #         print(f'vortex {i+1}', a, b, c, d)\n",
    "        cv2.rectangle(labeled_mask, (a,b), (c,d), 255, cv2.FILLED)\n",
    "        for x,y in detected_vortices[np.round(t,1)]:\n",
    "            if (x,y) not in TP:\n",
    "                detected_vortex = np.zeros((frame.shape[:2]), dtype='uint8')\n",
    "                cv2.rectangle(detected_vortex, (x-bbox_size,y-bbox_size), (x+bbox_size,y+bbox_size), 255, cv2.FILLED)\n",
    "                result = np.all(cv2.bitwise_and(detected_vortex, labeled_mask) == 0)\n",
    "                if not result:\n",
    "                    TP.append((x,y))\n",
    "                    break\n",
    "    tp_count = len(TP) #CORRECT\n",
    "    fp_count = len(detected_vortices[np.round(t,1)]) - len(TP) #INCORRECT\n",
    "    fn_count = len(dictData['shapes']) - len(TP) #UNDETECTED\n",
    "    \n",
    "    ''' INSPECTION IF CALCULATION WORK PROPERLY '''\n",
    "    if index % 10 == 0:\n",
    "        for (x,y) in detected_vortices[np.round(t,1)]:\n",
    "            if (x,y) in TP:\n",
    "                color = (0,255,0)\n",
    "            else:\n",
    "                color = (0,0,255)\n",
    "            cv2.rectangle(frame, (x-12,y-12), (x+12,y+12), color, 2)\n",
    "        for parameter, value, shift in zip(['T=', 'TP=', 'FP=', 'FN='], [t, tp_count, fp_count, fn_count], [30, 60, 90, 120]):\n",
    "            cv2.putText(frame, text=parameter+str(value), org=(10, shift),\n",
    "                    fontFace= cv2.FONT_HERSHEY_SIMPLEX, fontScale=0.9, color=(0,0,0),\n",
    "                    thickness=1, lineType=cv2.LINE_AA)\n",
    "        cv2.imwrite(f'Method5-PixelAnalysis_RESULTS/TP_FP_{np.round(t,1)}.png', frame)\n",
    "        print(t)\n",
    "        \n",
    "    ''' SAVE RESULTS TO FILE '''\n",
    "#     print(t, tp_count, fp_count, fn_count)\n",
    "    with open('Method5-PixelAnalysis_RESULTS/Method5-Detection-Metrics-Results.csv', 'a') as fr:\n",
    "        fr.write(f'{t}\\t{tp_count}\\t{fp_count}\\t{fn_count}\\n')"
   ]
  },
  {
   "cell_type": "markdown",
   "id": "f512198f",
   "metadata": {},
   "source": [
    "# FINAL METRICS SUMMATION"
   ]
  },
  {
   "cell_type": "code",
   "execution_count": 24,
   "id": "6f650270",
   "metadata": {},
   "outputs": [
    {
     "data": {
      "text/plain": [
       "TP    2257\n",
       "FP     115\n",
       "FN      96\n",
       "dtype: int64"
      ]
     },
     "execution_count": 24,
     "metadata": {},
     "output_type": "execute_result"
    }
   ],
   "source": [
    "df_metrics = pd.read_csv('Method5-PixelAnalysis_RESULTS/Method5-Detection-Metrics-Results.csv', header=None, delimiter='\\t')\n",
    "df_metrics.columns = ['TIME', 'TP', 'FP', 'FN']\n",
    "df_metrics.set_index('TIME', inplace=True)\n",
    "df_metrics.sum()"
   ]
  },
  {
   "cell_type": "markdown",
   "id": "96bc2380",
   "metadata": {},
   "source": [
    "# SAVE TO FILE DETECTED COORDINATES"
   ]
  },
  {
   "cell_type": "code",
   "execution_count": 11,
   "id": "76fc23a0",
   "metadata": {},
   "outputs": [],
   "source": [
    "with open('Method5-PixelAnalysis_RESULTS/detected_vortices.txt','w') as data: \n",
    "      data.write(str(detected_vortices))"
   ]
  },
  {
   "cell_type": "code",
   "execution_count": null,
   "id": "04d1d664",
   "metadata": {},
   "outputs": [],
   "source": []
  }
 ],
 "metadata": {
  "kernelspec": {
   "display_name": "Python 3 (ipykernel)",
   "language": "python",
   "name": "python3"
  },
  "language_info": {
   "codemirror_mode": {
    "name": "ipython",
    "version": 3
   },
   "file_extension": ".py",
   "mimetype": "text/x-python",
   "name": "python",
   "nbconvert_exporter": "python",
   "pygments_lexer": "ipython3",
   "version": "3.8.5"
  }
 },
 "nbformat": 4,
 "nbformat_minor": 5
}
