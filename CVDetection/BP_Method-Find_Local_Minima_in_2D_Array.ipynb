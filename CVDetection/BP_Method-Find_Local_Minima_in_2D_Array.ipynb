{
 "cells": [
  {
   "cell_type": "code",
   "execution_count": 1,
   "id": "31906f86",
   "metadata": {},
   "outputs": [],
   "source": [
    "import numpy as np\n",
    "import pandas as pd\n",
    "import seaborn as sns\n",
    "import matplotlib.pyplot as plt\n",
    "import plotly.express as px\n",
    "from skimage.feature import peak_local_max\n",
    "import cv2\n",
    "from os import listdir\n",
    "from os.path import isfile, join\n",
    "import json\n",
    "import pandas as pd\n",
    "import time"
   ]
  },
  {
   "cell_type": "code",
   "execution_count": 2,
   "id": "c9ae599c",
   "metadata": {},
   "outputs": [],
   "source": [
    "def generate_df(filename):\n",
    "    data = np.genfromtxt(filename, delimiter='\\t')\n",
    "    x_axis = data[0][1:-1]\n",
    "    y_axis = np.flip(data[:,0][1:])\n",
    "    data = np.delete(data, 818, axis=1)\n",
    "    data = np.delete(data, 0, axis=0)\n",
    "    data = np.delete(data, 0 ,axis=1)\n",
    "    data = np.rot90(data, 3)\n",
    "    data = data*(-1)\n",
    "#     print(\"Data shape: \", data.shape)\n",
    "    return pd.DataFrame(data=data, index=y_axis, columns=x_axis)"
   ]
  },
  {
   "cell_type": "code",
   "execution_count": 3,
   "id": "184b1742",
   "metadata": {},
   "outputs": [],
   "source": [
    "def convert_coordinates_to_frame(mask, frame, coordinates):\n",
    "    vortices_list = []\n",
    "    for x,y in coordinates:\n",
    "        cx= int(x * frame.shape[0] / mask.shape[0])\n",
    "        cy= int(y * frame.shape[0] / mask.shape[0])\n",
    "        vortices_list.append((cx, cy))\n",
    "    return vortices_list"
   ]
  },
  {
   "cell_type": "markdown",
   "id": "d120fc2c",
   "metadata": {},
   "source": [
    "# EXTRACTION MOMENTS OF TIME FOR WHICH THE DATA IS LABELED"
   ]
  },
  {
   "cell_type": "code",
   "execution_count": 4,
   "id": "7bbc2503",
   "metadata": {},
   "outputs": [
    {
     "data": {
      "text/plain": [
       "array([ 30. ,  33. ,  36. ,  39. ,  42.1,  45. ,  48. ,  51. ,  54. ,\n",
       "        57. ,  60. ,  63. ,  66. ,  69. ,  72. ,  75. ,  78. ,  81. ,\n",
       "        84. ,  87. ,  90. ,  93. ,  96. ,  99. , 102. , 105. , 108. ,\n",
       "       111. , 114. , 117. , 120. , 123. , 126. , 129. , 132. , 135. ,\n",
       "       138. , 141. , 144. , 147. , 150. , 153. , 156. , 159. , 162. ,\n",
       "       165. , 168. , 171. , 174. , 177. , 180. , 183. , 186. , 189. ,\n",
       "       192. , 195. , 198. , 201. , 204. , 207. , 210.1, 214. , 217. ,\n",
       "       220. , 223. , 226. , 229. , 232. , 235. , 238. , 241. , 244. ,\n",
       "       247. , 250. , 253. , 256. , 259. , 262. , 265. , 268. , 271. ,\n",
       "       274. , 277. , 280. , 283. , 286. , 289. , 292. , 295. , 298. ,\n",
       "       301. , 304. , 307. , 310. , 313. , 316. , 319. , 322. , 325. ,\n",
       "       328. ])"
      ]
     },
     "execution_count": 4,
     "metadata": {},
     "output_type": "execute_result"
    }
   ],
   "source": [
    "''' EXTRACT TIME RANGE '''\n",
    "mypath = 'CalculateDetectionMetrics/cropped_data_labeled/'\n",
    "onlyfiles = [f for f in listdir(mypath) if isfile(join(mypath, f))]\n",
    "time_range = np.array(sorted([float(x[19:-5]) for x in list(filter(lambda s: 'json' in s, onlyfiles))]))\n",
    "time_range = time_range[time_range >= 30]\n",
    "time_range = np.round(time_range, 1)\n",
    "time_range"
   ]
  },
  {
   "cell_type": "markdown",
   "id": "1aa805f2",
   "metadata": {},
   "source": [
    "# CV BOHMIAN POTENTIAL METHOD ALGORITHM"
   ]
  },
  {
   "cell_type": "code",
   "execution_count": 6,
   "id": "19cc4ee8",
   "metadata": {},
   "outputs": [
    {
     "name": "stdout",
     "output_type": "stream",
     "text": [
      "It has been 50.00749754905701 seconds since the loop started\n"
     ]
    }
   ],
   "source": [
    "program_starts = time.time()\n",
    "\n",
    "detected_vortices = {}\n",
    "for t in time_range:\n",
    "    frame = cv2.imread(f'CalculateDetectionMetrics/cropped_data_labeled/x_vel_cropped_time={np.round(t, 1)}0.png')\n",
    "    filename_bp = f'input_data/bohmian_potential//Bohmian_potential_time={np.round(t,1)}0.dat'\n",
    "    df_bp = generate_df(filename_bp)\n",
    "    \n",
    "    ''' FIND LOCAL MINIMA IN BP DATA '''\n",
    "    indices = peak_local_max(df_bp.values, threshold_abs=110, min_distance=5)\n",
    "    \n",
    "    '''GET DETECTED VORTICES COORDINATES'''\n",
    "    detected_vortices[np.round(t,1)] = convert_coordinates_to_frame(df_bp.values, frame, coordinates=indices)\n",
    "    \n",
    "now = time.time()\n",
    "print(\"It has been {0} seconds since the loop started\".format(now - program_starts))"
   ]
  },
  {
   "cell_type": "markdown",
   "id": "4c2b34ec",
   "metadata": {},
   "source": [
    "# TP, FP, FN METRICS CALCULATIONS"
   ]
  },
  {
   "cell_type": "code",
   "execution_count": 7,
   "id": "a5247ea1",
   "metadata": {},
   "outputs": [
    {
     "name": "stdout",
     "output_type": "stream",
     "text": [
      "30.0\n",
      "39.0\n",
      "48.0\n",
      "57.0\n",
      "63.0\n",
      "66.0\n",
      "75.0\n",
      "81.0\n",
      "102.0\n",
      "105.0\n",
      "117.0\n",
      "126.0\n",
      "132.0\n",
      "135.0\n",
      "138.0\n",
      "141.0\n",
      "144.0\n",
      "150.0\n",
      "153.0\n",
      "156.0\n",
      "159.0\n",
      "162.0\n",
      "165.0\n",
      "168.0\n",
      "171.0\n",
      "174.0\n",
      "177.0\n",
      "180.0\n",
      "183.0\n",
      "186.0\n",
      "189.0\n",
      "192.0\n",
      "198.0\n",
      "201.0\n",
      "204.0\n",
      "207.0\n",
      "210.1\n",
      "214.0\n",
      "217.0\n",
      "220.0\n",
      "223.0\n",
      "226.0\n",
      "229.0\n",
      "235.0\n",
      "238.0\n",
      "241.0\n",
      "244.0\n",
      "247.0\n",
      "256.0\n",
      "262.0\n",
      "265.0\n",
      "268.0\n",
      "271.0\n",
      "274.0\n",
      "277.0\n",
      "286.0\n",
      "289.0\n",
      "292.0\n",
      "295.0\n",
      "298.0\n",
      "304.0\n",
      "307.0\n",
      "310.0\n",
      "313.0\n",
      "328.0\n"
     ]
    }
   ],
   "source": [
    "''' READ JSON FILES WITH LABELED BOUNDING BOXES '''\n",
    "bbox_size = 3\n",
    "for index, t in enumerate(time_range):\n",
    "    with open(f'CalculateDetectionMetrics/cropped_data_labeled/x_vel_cropped_time={np.round(t,1)}0.json', 'r') as f:\n",
    "        dictData = json.load(f)\n",
    "    frame = cv2.imread(f'CalculateDetectionMetrics/cropped_data_labeled/x_vel_cropped_time={np.round(t,1)}0.png')\n",
    "    TP = []\n",
    "    for i, vortex in enumerate(dictData['shapes']):\n",
    "        labeled_mask = np.zeros((frame.shape[:2]), dtype='uint8')\n",
    "        a = int(vortex['points'][0][0])\n",
    "        b = int(vortex['points'][0][1])\n",
    "        c = int(vortex['points'][1][0])\n",
    "        d = int(vortex['points'][1][1])\n",
    "    #         print(f'vortex {i+1}', a, b, c, d)\n",
    "        cv2.rectangle(labeled_mask, (a,b), (c,d), 255, cv2.FILLED)\n",
    "        for x,y in detected_vortices[np.round(t,1)]:\n",
    "            if (x,y) not in TP:\n",
    "                detected_vortex = np.zeros((frame.shape[:2]), dtype='uint8')\n",
    "                cv2.rectangle(detected_vortex, (x-bbox_size,y-bbox_size), (x+bbox_size,y+bbox_size), 255, cv2.FILLED)\n",
    "                result = np.all(cv2.bitwise_and(detected_vortex, labeled_mask) == 0)\n",
    "                if not result:\n",
    "                    TP.append((x,y))\n",
    "                    break\n",
    "    tp_count = len(TP) #CORRECT\n",
    "    fp_count = len(detected_vortices[np.round(t,1)]) - len(TP) #INCORRECT\n",
    "    fn_count = len(dictData['shapes']) - len(TP) #UNDETECTED\n",
    "    \n",
    "    ''' INSPECTION IF CALCULATION WORK PROPERLY '''\n",
    "    if fp_count > 0:\n",
    "        for (x,y) in detected_vortices[np.round(t,1)]:\n",
    "            if (x,y) in TP:\n",
    "                color = (0,255,0)\n",
    "            else:\n",
    "                color = (0,0,255)\n",
    "            cv2.rectangle(frame, (x-12,y-12), (x+12,y+12), color, 2)\n",
    "        for parameter, value, shift in zip(['T=', 'TP=', 'FP=', 'FN='], [t, tp_count, fp_count, fn_count], [30, 60, 90, 120]):\n",
    "            cv2.putText(frame, text=parameter+str(value), org=(10, shift),\n",
    "                    fontFace= cv2.FONT_HERSHEY_SIMPLEX, fontScale=0.9, color=(0,0,0),\n",
    "                    thickness=1, lineType=cv2.LINE_AA)\n",
    "        cv2.imwrite(f'BP_Method-Find_Local_Minima_in_2D_Array_RESULTS/TP_FP_{np.round(t,1)}.png', frame)\n",
    "        print(t)\n",
    "        \n",
    "    ''' SAVE RESULTS TO FILE '''\n",
    "#     print(t, tp_count, fp_count, fn_count)\n",
    "    with open('BP_Method-Find_Local_Minima_in_2D_Array_RESULTS/BPMethod-Detection-Metrics-Results.csv', 'a') as fr:\n",
    "        fr.write(f'{t}\\t{tp_count}\\t{fp_count}\\t{fn_count}\\n')"
   ]
  },
  {
   "cell_type": "markdown",
   "id": "cdc86d6a",
   "metadata": {},
   "source": [
    "# FINAL METRICS SUMMATION"
   ]
  },
  {
   "cell_type": "code",
   "execution_count": 36,
   "id": "67058415",
   "metadata": {},
   "outputs": [
    {
     "data": {
      "text/plain": [
       "TP    2269\n",
       "FP     291\n",
       "FN      84\n",
       "dtype: int64"
      ]
     },
     "execution_count": 36,
     "metadata": {},
     "output_type": "execute_result"
    }
   ],
   "source": [
    "df_metrics = pd.read_csv('BP_Method-Find_Local_Minima_in_2D_Array_RESULTS/BPMethod-Detection-Metrics-Results.csv', header=None, delimiter='\\t')\n",
    "df_metrics.columns = ['TIME', 'TP', 'FP', 'FN']\n",
    "df_metrics.set_index('TIME', inplace=True)\n",
    "df_metrics.sum()"
   ]
  },
  {
   "cell_type": "markdown",
   "id": "6773eb52",
   "metadata": {},
   "source": [
    "# SAVE TO FILE DETECTED COORDINATES"
   ]
  },
  {
   "cell_type": "code",
   "execution_count": 9,
   "id": "3df43c22",
   "metadata": {},
   "outputs": [],
   "source": [
    "with open('BP_Method-Find_Local_Minima_in_2D_Array_RESULTS/detected_vortices.txt','w') as data: \n",
    "      data.write(str(detected_vortices))"
   ]
  },
  {
   "cell_type": "code",
   "execution_count": null,
   "id": "9df6b644",
   "metadata": {},
   "outputs": [],
   "source": []
  },
  {
   "cell_type": "code",
   "execution_count": null,
   "id": "b8ce01a5",
   "metadata": {},
   "outputs": [],
   "source": []
  },
  {
   "cell_type": "markdown",
   "id": "75f89fa2",
   "metadata": {},
   "source": [
    "# GRID SEARCH OF PARAMETERS"
   ]
  },
  {
   "cell_type": "code",
   "execution_count": 5,
   "id": "fe96db86",
   "metadata": {},
   "outputs": [],
   "source": [
    "distances = [1,2,3,4,5,6]\n",
    "thresholds = [100, 110, 120, 130, 140, 150, 160, 170, 180]\n",
    "\n",
    "for dist in distances:\n",
    "    for thres in thresholds:\n",
    "        detected_vortices = {}\n",
    "        for t in time_range:\n",
    "            frame = cv2.imread(f'CalculateDetectionMetrics/cropped_data_labeled/x_vel_cropped_time={np.round(t, 1)}0.png')\n",
    "            filename_bp = f'input_data/bohmian_potential//Bohmian_potential_time={np.round(t,1)}0.dat'\n",
    "            df_bp = generate_df(filename_bp)\n",
    "\n",
    "            ''' FIND LOCAL MINIMA IN BP DATA '''\n",
    "            indices = peak_local_max(df_bp.values, threshold_abs=thres, min_distance=dist)\n",
    "\n",
    "            '''GET DETECTED VORTICES COORDINATES'''\n",
    "            detected_vortices[np.round(t,1)] = convert_coordinates_to_frame(df_bp.values, frame, coordinates=indices)\n",
    "    \n",
    "    \n",
    "    \n",
    "    \n",
    "        ''' READ JSON FILES WITH LABELED BOUNDING BOXES '''\n",
    "        bbox_size = 3\n",
    "        for index, t in enumerate(time_range):\n",
    "            with open(f'CalculateDetectionMetrics/cropped_data_labeled/x_vel_cropped_time={np.round(t,1)}0.json', 'r') as f:\n",
    "                dictData = json.load(f)\n",
    "            frame = cv2.imread(f'CalculateDetectionMetrics/cropped_data_labeled/x_vel_cropped_time={np.round(t,1)}0.png')\n",
    "            TP = []\n",
    "            for i, vortex in enumerate(dictData['shapes']):\n",
    "                labeled_mask = np.zeros((frame.shape[:2]), dtype='uint8')\n",
    "                a = int(vortex['points'][0][0])\n",
    "                b = int(vortex['points'][0][1])\n",
    "                c = int(vortex['points'][1][0])\n",
    "                d = int(vortex['points'][1][1])\n",
    "            #         print(f'vortex {i+1}', a, b, c, d)\n",
    "                cv2.rectangle(labeled_mask, (a,b), (c,d), 255, cv2.FILLED)\n",
    "                for x,y in detected_vortices[np.round(t,1)]:\n",
    "                    if (x,y) not in TP:\n",
    "                        detected_vortex = np.zeros((frame.shape[:2]), dtype='uint8')\n",
    "                        cv2.rectangle(detected_vortex, (x-bbox_size,y-bbox_size), (x+bbox_size,y+bbox_size), 255, cv2.FILLED)\n",
    "                        result = np.all(cv2.bitwise_and(detected_vortex, labeled_mask) == 0)\n",
    "                        if not result:\n",
    "                            TP.append((x,y))\n",
    "                            break\n",
    "            tp_count = len(TP) #CORRECT\n",
    "            fp_count = len(detected_vortices[np.round(t,1)]) - len(TP) #INCORRECT\n",
    "            fn_count = len(dictData['shapes']) - len(TP) #UNDETECTED\n",
    "\n",
    "\n",
    "            ''' SAVE RESULTS TO FILE '''\n",
    "        #     print(t, tp_count, fp_count, fn_count)\n",
    "            with open(f'BP_Method-Find_Local_Minima_in_2D_Array_RESULTS/EXPERIMENT_WITH_GRIDSEARCH_THRESH={thres}_DIST={dist}.csv', 'a') as fr:\n",
    "                fr.write(f'{t}\\t{tp_count}\\t{fp_count}\\t{fn_count}\\n')"
   ]
  },
  {
   "cell_type": "code",
   "execution_count": null,
   "id": "a3f0e186",
   "metadata": {},
   "outputs": [],
   "source": []
  },
  {
   "cell_type": "code",
   "execution_count": null,
   "id": "e939b82d",
   "metadata": {},
   "outputs": [],
   "source": []
  }
 ],
 "metadata": {
  "kernelspec": {
   "display_name": "Python 3 (ipykernel)",
   "language": "python",
   "name": "python3"
  },
  "language_info": {
   "codemirror_mode": {
    "name": "ipython",
    "version": 3
   },
   "file_extension": ".py",
   "mimetype": "text/x-python",
   "name": "python",
   "nbconvert_exporter": "python",
   "pygments_lexer": "ipython3",
   "version": "3.8.5"
  }
 },
 "nbformat": 4,
 "nbformat_minor": 5
}
