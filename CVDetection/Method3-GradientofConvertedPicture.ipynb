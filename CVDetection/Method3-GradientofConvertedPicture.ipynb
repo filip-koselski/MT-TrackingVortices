{
 "cells": [
  {
   "cell_type": "code",
   "execution_count": 2,
   "id": "a62e44f2",
   "metadata": {},
   "outputs": [],
   "source": [
    "import cv2\n",
    "import numpy as np\n",
    "import matplotlib.pyplot as plt\n",
    "from os import listdir\n",
    "from os.path import isfile, join\n",
    "import json\n",
    "import pandas as pd\n",
    "import time"
   ]
  },
  {
   "cell_type": "code",
   "execution_count": 8,
   "id": "e48102df",
   "metadata": {},
   "outputs": [],
   "source": [
    "# def label_detected_objects(mask, frame, t):\n",
    "#     _, contours, hierarchy= cv2.findContours(mask, cv2.RETR_EXTERNAL, cv2.CHAIN_APPROX_NONE)\n",
    "#     # cv2.drawContours(frame, contours, -1, (0, 255, 0), cv2.FILLED)\n",
    "#     for (i,c) in enumerate(contours):\n",
    "#         M= cv2.moments(c)\n",
    "#         try:\n",
    "# #             cx= int(M['m10']/M['m00'])\n",
    "# #             cy= int(M['m01']/M['m00'])\n",
    "#             cx= c[0][0][0]\n",
    "#             cy= c[0][0][1]\n",
    "#             cv2.putText(frame, text= str(i+1), org=(cx,cy),\n",
    "#                 fontFace= cv2.FONT_HERSHEY_SIMPLEX, fontScale=0.6, color=(0,0,0),\n",
    "#                 thickness=1, lineType=cv2.LINE_AA)\n",
    "#             cv2.putText(frame, text=f'T={t}', org=(10,30),\n",
    "#                 fontFace= cv2.FONT_HERSHEY_SIMPLEX, fontScale=0.9, color=(0,0,0),\n",
    "#                 thickness=1, lineType=cv2.LINE_AA)\n",
    "#             cv2.rectangle(frame, (cx-10,cy-10), (cx+10,cy+10), (0,0,255),1)\n",
    "#         except ZeroDivisionError:\n",
    "#             print(\"Zero division\")\n",
    "#     filename = f'Method3-GradientofConvertedPicture/result_{np.round(t, 1)}0.png'\n",
    "#     cv2.imwrite(filename, frame)"
   ]
  },
  {
   "cell_type": "code",
   "execution_count": 3,
   "id": "831a2c56",
   "metadata": {},
   "outputs": [],
   "source": [
    "def get_vortices_coordinates(mask, frame):\n",
    "    _, contours, hierarchy= cv2.findContours(mask, cv2.RETR_EXTERNAL, cv2.CHAIN_APPROX_NONE)\n",
    "    vortices_list = []\n",
    "    for (i,c) in enumerate(contours):\n",
    "        ''' FIRST VERSION '''\n",
    "#         cx= int(c[0][0][0] * frame.shape[0] / mask.shape[0])\n",
    "#         cy= int(c[0][0][1] * frame.shape[0] / mask.shape[0])\n",
    "        \n",
    "        ''' SECOND VERSION '''\n",
    "        middle_pixel = int(len(c) / 2)\n",
    "        cx= int(c[middle_pixel][0][0] * frame.shape[0] / mask.shape[0])\n",
    "        cy= int(c[middle_pixel][0][1] * frame.shape[0] / mask.shape[0])\n",
    "        vortices_list.append((cx, cy))\n",
    "    return vortices_list"
   ]
  },
  {
   "cell_type": "markdown",
   "id": "955d8a3d",
   "metadata": {},
   "source": [
    "# EXTRACTION MOMENTS OF TIME FOR WHICH THE DATA IS LABELED"
   ]
  },
  {
   "cell_type": "code",
   "execution_count": 4,
   "id": "860ce9c2",
   "metadata": {},
   "outputs": [
    {
     "data": {
      "text/plain": [
       "array([ 30. ,  33. ,  36. ,  39. ,  42.1,  45. ,  48. ,  51. ,  54. ,\n",
       "        57. ,  60. ,  63. ,  66. ,  69. ,  72. ,  75. ,  78. ,  81. ,\n",
       "        84. ,  87. ,  90. ,  93. ,  96. ,  99. , 102. , 105. , 108. ,\n",
       "       111. , 114. , 117. , 120. , 123. , 126. , 129. , 132. , 135. ,\n",
       "       138. , 141. , 144. , 147. , 150. , 153. , 156. , 159. , 162. ,\n",
       "       165. , 168. , 171. , 174. , 177. , 180. , 183. , 186. , 189. ,\n",
       "       192. , 195. , 198. , 201. , 204. , 207. , 210.1, 214. , 217. ,\n",
       "       220. , 223. , 226. , 229. , 232. , 235. , 238. , 241. , 244. ,\n",
       "       247. , 250. , 253. , 256. , 259. , 262. , 265. , 268. , 271. ,\n",
       "       274. , 277. , 280. , 283. , 286. , 289. , 292. , 295. , 298. ,\n",
       "       301. , 304. , 307. , 310. , 313. , 316. , 319. , 322. , 325. ,\n",
       "       328. ])"
      ]
     },
     "execution_count": 4,
     "metadata": {},
     "output_type": "execute_result"
    }
   ],
   "source": [
    "''' EXTRACT TIME RANGE '''\n",
    "mypath = 'CalculateDetectionMetrics/cropped_data_labeled/'\n",
    "onlyfiles = [f for f in listdir(mypath) if isfile(join(mypath, f))]\n",
    "time_range = np.array(sorted([float(x[19:-5]) for x in list(filter(lambda s: 'json' in s, onlyfiles))]))\n",
    "time_range = time_range[time_range >= 30]\n",
    "time_range = np.round(time_range, 1)\n",
    "time_range"
   ]
  },
  {
   "cell_type": "markdown",
   "id": "39ac206e",
   "metadata": {},
   "source": [
    "# METHOD 3 ALGORITHM"
   ]
  },
  {
   "cell_type": "code",
   "execution_count": 5,
   "id": "f2810043",
   "metadata": {},
   "outputs": [
    {
     "name": "stdout",
     "output_type": "stream",
     "text": [
      "It has been 53.264981269836426 seconds since the loop started\n"
     ]
    }
   ],
   "source": [
    "program_starts = time.time()\n",
    "\n",
    "detected_vortices = {}\n",
    "\n",
    "for t in time_range:\n",
    "    data = np.genfromtxt(f'input_data/x_vel/x_phase_velocity_snapshot_time={np.round(t, 1)}0.dat', delimiter='\\t')\n",
    "    frame = cv2.imread(f'CalculateDetectionMetrics/cropped_data_labeled/x_vel_cropped_time={np.round(t, 1)}0.png')\n",
    "    data = np.delete(data, 818, axis=1)\n",
    "    data = np.delete(data, 0, axis=0)\n",
    "    data = np.delete(data, 0 ,axis = 1)\n",
    "    data = np.rot90(data, 1)\n",
    "    data[data > 0.4] = 0.5\n",
    "    data[data < (-0.4)] = -0.5\n",
    "\n",
    "    mask_x = np.array([-1,1])\n",
    "    mask_y = mask_x.T\n",
    "\n",
    "    Ix = cv2.filter2D(data, -1, mask_x)\n",
    "    Iy = cv2.filter2D(data, -1, mask_y)\n",
    "    I_xy = cv2.magnitude(Ix, Iy)\n",
    "\n",
    "    I_xy=abs(I_xy)\n",
    "    I_xy[I_xy <= 0.27] = 0\n",
    "    I_xy[I_xy > 0.27] = 255\n",
    "\n",
    "    mask = np.uint8(I_xy)\n",
    "    \n",
    "    '''GET DETECTED VORTICES COORDINATES'''\n",
    "    detected_vortices[np.round(t,1)] = get_vortices_coordinates(mask, frame)\n",
    "    \n",
    "now = time.time()\n",
    "print(\"It has been {0} seconds since the loop started\".format(now - program_starts))"
   ]
  },
  {
   "cell_type": "code",
   "execution_count": 12,
   "id": "faed6bb7",
   "metadata": {},
   "outputs": [
    {
     "data": {
      "text/plain": [
       "Text(0.5, 1.0, 'MASK FOR T=328.0')"
      ]
     },
     "execution_count": 12,
     "metadata": {},
     "output_type": "execute_result"
    },
    {
     "data": {
      "image/png": "[encoded data removed]",
      "text/plain": [
       "<Figure size 864x864 with 1 Axes>"
      ]
     },
     "metadata": {
      "needs_background": "light"
     },
     "output_type": "display_data"
    }
   ],
   "source": [
    "plt.figure(figsize=(12,12))\n",
    "plt.imshow(mask)\n",
    "plt.title(f'MASK FOR T={t}')"
   ]
  },
  {
   "cell_type": "markdown",
   "id": "a4f99319",
   "metadata": {},
   "source": [
    "# TP, FP, FN METRICS CALCULATIONS"
   ]
  },
  {
   "cell_type": "code",
   "execution_count": 8,
   "id": "af224145",
   "metadata": {},
   "outputs": [
    {
     "name": "stdout",
     "output_type": "stream",
     "text": [
      "30.0\n",
      "60.0\n",
      "90.0\n",
      "120.0\n",
      "150.0\n",
      "180.0\n",
      "210.1\n",
      "241.0\n",
      "271.0\n",
      "301.0\n"
     ]
    }
   ],
   "source": [
    "''' READ JSON FILES WITH LABELED BOUNDING BOXES '''\n",
    "bbox_size = 3\n",
    "for index, t in enumerate(time_range):\n",
    "    with open(f'CalculateDetectionMetrics/cropped_data_labeled/x_vel_cropped_time={np.round(t,1)}0.json', 'r') as f:\n",
    "        dictData = json.load(f)\n",
    "    frame = cv2.imread(f'CalculateDetectionMetrics/cropped_data_labeled/x_vel_cropped_time={np.round(t,1)}0.png')\n",
    "    TP = []\n",
    "    for i, vortex in enumerate(dictData['shapes']):\n",
    "        labeled_mask = np.zeros((frame.shape[:2]), dtype='uint8')\n",
    "        a = int(vortex['points'][0][0])\n",
    "        b = int(vortex['points'][0][1])\n",
    "        c = int(vortex['points'][1][0])\n",
    "        d = int(vortex['points'][1][1])\n",
    "    #         print(f'vortex {i+1}', a, b, c, d)\n",
    "        cv2.rectangle(labeled_mask, (a,b), (c,d), 255, cv2.FILLED)\n",
    "        for x,y in detected_vortices[np.round(t,1)]:\n",
    "            if (x,y) not in TP:\n",
    "                detected_vortex = np.zeros((frame.shape[:2]), dtype='uint8')\n",
    "                cv2.rectangle(detected_vortex, (x-bbox_size,y-bbox_size), (x+bbox_size,y+bbox_size), 255, cv2.FILLED)\n",
    "                result = np.all(cv2.bitwise_and(detected_vortex, labeled_mask) == 0)\n",
    "                if not result:\n",
    "                    TP.append((x,y))\n",
    "                    break\n",
    "    tp_count = len(TP) #CORRECT\n",
    "    fp_count = len(detected_vortices[np.round(t,1)]) - len(TP) #INCORRECT\n",
    "    fn_count = len(dictData['shapes']) - len(TP) #UNDETECTED\n",
    "    \n",
    "    ''' INSPECTION IF CALCULATION WORK PROPERLY '''\n",
    "    if index % 10 == 0:\n",
    "        for (x,y) in detected_vortices[np.round(t,1)]:\n",
    "            if (x,y) in TP:\n",
    "                color = (0,255,0)\n",
    "            else:\n",
    "                color = (0,0,255)\n",
    "            cv2.rectangle(frame, (x-12,y-12), (x+12,y+12), color, 2)\n",
    "        for parameter, value, shift in zip(['T=', 'TP=', 'FP=', 'FN='], [t, tp_count, fp_count, fn_count], [30, 60, 90, 120]):\n",
    "            cv2.putText(frame, text=parameter+str(value), org=(10, shift),\n",
    "                    fontFace= cv2.FONT_HERSHEY_SIMPLEX, fontScale=0.9, color=(0,0,0),\n",
    "                    thickness=1, lineType=cv2.LINE_AA)\n",
    "        cv2.imwrite(f'Method3-GradientofConvertedPicture_RESULTS/TP_FP_{np.round(t,1)}.png', frame)\n",
    "        print(t)\n",
    "    ''' SAVE RESULTS TO FILE '''\n",
    "#     print(t, tp_count, fp_count, fn_count)\n",
    "    with open('Method3-GradientofConvertedPicture_RESULTS/Method3-Detection-Metrics-Results.csv', 'a') as fr:\n",
    "        fr.write(f'{t}\\t{tp_count}\\t{fp_count}\\t{fn_count}\\n')"
   ]
  },
  {
   "cell_type": "markdown",
   "id": "d6bf8510",
   "metadata": {},
   "source": [
    "# FINAL METRICS SUMMATION"
   ]
  },
  {
   "cell_type": "code",
   "execution_count": 11,
   "id": "c2f8f5b2",
   "metadata": {},
   "outputs": [
    {
     "data": {
      "text/plain": [
       "TP    2299\n",
       "FP    2254\n",
       "FN      54\n",
       "dtype: int64"
      ]
     },
     "execution_count": 11,
     "metadata": {},
     "output_type": "execute_result"
    }
   ],
   "source": [
    "df_metrics = pd.read_csv('Method3-GradientofConvertedPicture_RESULTS/Method3-Detection-Metrics-Results.csv', header=None, delimiter='\\t')\n",
    "df_metrics.columns = ['TIME', 'TP', 'FP', 'FN']\n",
    "df_metrics.set_index('TIME', inplace=True)\n",
    "df_metrics.sum()"
   ]
  },
  {
   "cell_type": "markdown",
   "id": "e2e13bcb",
   "metadata": {},
   "source": [
    "# SAVE TO FILE DETECTED COORDINATES"
   ]
  },
  {
   "cell_type": "code",
   "execution_count": 6,
   "id": "41325e52",
   "metadata": {},
   "outputs": [],
   "source": [
    "with open('Method3-GradientofConvertedPicture_RESULTS/detected_vortices.txt','w') as data: \n",
    "      data.write(str(detected_vortices))"
   ]
  },
  {
   "cell_type": "code",
   "execution_count": null,
   "id": "de0e99bc",
   "metadata": {},
   "outputs": [],
   "source": []
  }
 ],
 "metadata": {
  "kernelspec": {
   "display_name": "Python 3 (ipykernel)",
   "language": "python",
   "name": "python3"
  },
  "language_info": {
   "codemirror_mode": {
    "name": "ipython",
    "version": 3
   },
   "file_extension": ".py",
   "mimetype": "text/x-python",
   "name": "python",
   "nbconvert_exporter": "python",
   "pygments_lexer": "ipython3",
   "version": "3.8.5"
  }
 },
 "nbformat": 4,
 "nbformat_minor": 5
}
